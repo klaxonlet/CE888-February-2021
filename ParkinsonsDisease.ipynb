{
  "nbformat": 4,
  "nbformat_minor": 0,
  "metadata": {
    "colab": {
      "name": "ParkinsonsDisease.ipynb",
      "provenance": [],
      "authorship_tag": "ABX9TyNVit9EyCYlBXkudIsSD3NM",
      "include_colab_link": true
    },
    "kernelspec": {
      "name": "python3",
      "display_name": "Python 3"
    }
  },
  "cells": [
    {
      "cell_type": "markdown",
      "metadata": {
        "id": "view-in-github",
        "colab_type": "text"
      },
      "source": [
        "<a href=\"https://colab.research.google.com/github/klaxonlet/CE888-February-2021/blob/main/ParkinsonsDisease.ipynb\" target=\"_parent\"><img src=\"https://colab.research.google.com/assets/colab-badge.svg\" alt=\"Open In Colab\"/></a>"
      ]
    },
    {
      "cell_type": "code",
      "metadata": {
        "id": "I1r88mhSoRec"
      },
      "source": [
        "import pandas as pd\n",
        "import numpy as np\n",
        "from sklearn.model_selection import train_test_split\n",
        "from xgboost import XGBClassifier\n",
        "from sklearn.metrics import accuracy_score\n",
        "from sklearn.preprocessing import StandardScaler\n",
        "from sklearn.neighbors import KNeighborsClassifier\n",
        "from sklearn.neural_network import MLPClassifier"
      ],
      "execution_count": null,
      "outputs": []
    },
    {
      "cell_type": "code",
      "metadata": {
        "id": "HybdT9HEpTik"
      },
      "source": [
        "# Loading the dataset\n",
        "\n",
        "data = pd.read_csv('parkinsonsdata_new.csv')"
      ],
      "execution_count": null,
      "outputs": []
    },
    {
      "cell_type": "code",
      "metadata": {
        "id": "r5P7nV6jowVc"
      },
      "source": [
        "# Seperating target variable for test-train split and deleting 'status' and 'name' from the data.\n",
        "\n",
        "data_target = data['status']\n",
        "del data['status'] \n",
        "del data['name']"
      ],
      "execution_count": null,
      "outputs": []
    },
    {
      "cell_type": "code",
      "metadata": {
        "id": "xajCtCfSz8Oo"
      },
      "source": [
        "# Scaling our features\n",
        "\n",
        "scaler = StandardScaler()\n",
        "data = pd.DataFrame(scaler.fit_transform(data))"
      ],
      "execution_count": null,
      "outputs": []
    },
    {
      "cell_type": "code",
      "metadata": {
        "id": "DjUY3E7kqGws"
      },
      "source": [
        "# Splitting data set into training and testing.\n",
        "\n",
        "data_train, data_test, target_train, target_test = train_test_split(data, data_target, test_size=0.20, random_state=42)"
      ],
      "execution_count": null,
      "outputs": []
    },
    {
      "cell_type": "code",
      "metadata": {
        "colab": {
          "base_uri": "https://localhost:8080/"
        },
        "id": "ZDmxpDh1vyhU",
        "outputId": "4e88ce7c-b6e8-495b-9f30-c8235daf8aeb"
      },
      "source": [
        "# XGBoost model\n",
        "\n",
        "model_xg_n = XGBClassifier().fit(data_train, target_train)\n",
        "prediction_xg_n = model_xg_n.predict(data_test)\n",
        "accuracy_xg_n = accuracy_score(target_test, prediction_xg_n)\n",
        "accuracy_xg_n"
      ],
      "execution_count": null,
      "outputs": [
        {
          "output_type": "execute_result",
          "data": {
            "text/plain": [
              "0.9487179487179487"
            ]
          },
          "metadata": {
            "tags": []
          },
          "execution_count": 86
        }
      ]
    },
    {
      "cell_type": "code",
      "metadata": {
        "colab": {
          "base_uri": "https://localhost:8080/"
        },
        "id": "yTkFkXCx4fBM",
        "outputId": "b831a21a-64aa-4a81-bda3-d179b5265f90"
      },
      "source": [
        "# Hyperparameter tuning for XGBoost. No increase in accuracy was found after \n",
        "# running a search. The search took 25 minutes to complete.\n",
        "\n",
        "from sklearn.model_selection import GridSearchCV\n",
        "parameters =  {\"max_depth\": [3, 6, 10, 20],\n",
        "               'min_child_weight': np.arange(1, 10, 1),\n",
        "               'gamma': np.arange(0, 10, 1),\n",
        "               'n_estimators': [50, 100, 150],\n",
        "               'learning_rate': [0.1, 0.2, 0.3],\n",
        "               'subsample': np.arange(0.5, 1.0, 0.1)}\n",
        "\n",
        "model_xg = XGBClassifier()\n",
        "model_xg_tuned = GridSearchCV(model_xg, parameters, n_jobs=5, \n",
        "                     scoring='accuracy', verbose=2)\n",
        "\n",
        "model_xg_tuned.fit(data_train,target_train)\n",
        "print(model_xg_tuned.best_score_)\n",
        "print(model_xg_tuned.best_params_)"
      ],
      "execution_count": null,
      "outputs": [
        {
          "output_type": "stream",
          "text": [
            "Fitting 5 folds for each of 16200 candidates, totalling 81000 fits\n"
          ],
          "name": "stdout"
        },
        {
          "output_type": "stream",
          "text": [
            "[Parallel(n_jobs=5)]: Using backend LokyBackend with 5 concurrent workers.\n",
            "[Parallel(n_jobs=5)]: Done  74 tasks      | elapsed:    1.9s\n",
            "[Parallel(n_jobs=5)]: Done 558 tasks      | elapsed:   10.4s\n",
            "[Parallel(n_jobs=5)]: Done 1370 tasks      | elapsed:   24.9s\n",
            "[Parallel(n_jobs=5)]: Done 2502 tasks      | elapsed:   45.7s\n",
            "[Parallel(n_jobs=5)]: Done 3962 tasks      | elapsed:  1.2min\n",
            "[Parallel(n_jobs=5)]: Done 5742 tasks      | elapsed:  1.7min\n",
            "[Parallel(n_jobs=5)]: Done 7850 tasks      | elapsed:  2.2min\n",
            "[Parallel(n_jobs=5)]: Done 10278 tasks      | elapsed:  3.0min\n",
            "[Parallel(n_jobs=5)]: Done 13034 tasks      | elapsed:  3.8min\n",
            "[Parallel(n_jobs=5)]: Done 16110 tasks      | elapsed:  4.6min\n",
            "[Parallel(n_jobs=5)]: Done 19514 tasks      | elapsed:  5.7min\n",
            "[Parallel(n_jobs=5)]: Done 23238 tasks      | elapsed:  6.8min\n",
            "[Parallel(n_jobs=5)]: Done 27290 tasks      | elapsed:  8.0min\n",
            "[Parallel(n_jobs=5)]: Done 31662 tasks      | elapsed:  9.4min\n",
            "[Parallel(n_jobs=5)]: Done 36362 tasks      | elapsed: 10.8min\n",
            "[Parallel(n_jobs=5)]: Done 41382 tasks      | elapsed: 12.4min\n",
            "[Parallel(n_jobs=5)]: Done 46730 tasks      | elapsed: 14.1min\n",
            "[Parallel(n_jobs=5)]: Done 52398 tasks      | elapsed: 15.9min\n",
            "[Parallel(n_jobs=5)]: Done 58394 tasks      | elapsed: 17.8min\n",
            "[Parallel(n_jobs=5)]: Done 64710 tasks      | elapsed: 19.9min\n",
            "[Parallel(n_jobs=5)]: Done 71354 tasks      | elapsed: 22.1min\n",
            "[Parallel(n_jobs=5)]: Done 78318 tasks      | elapsed: 24.4min\n",
            "[Parallel(n_jobs=5)]: Done 80991 out of 81000 | elapsed: 25.3min remaining:    0.2s\n",
            "[Parallel(n_jobs=5)]: Done 81000 out of 81000 | elapsed: 25.3min finished\n"
          ],
          "name": "stderr"
        },
        {
          "output_type": "stream",
          "text": [
            "0.9419354838709678\n",
            "{'gamma': 0, 'learning_rate': 0.3, 'max_depth': 3, 'min_child_weight': 1, 'n_estimators': 100, 'subsample': 0.6}\n"
          ],
          "name": "stdout"
        }
      ]
    },
    {
      "cell_type": "code",
      "metadata": {
        "colab": {
          "base_uri": "https://localhost:8080/"
        },
        "id": "ibtqhcqgWHIw",
        "outputId": "0d32e90a-514a-47dd-9b87-0aebedb925a7"
      },
      "source": [
        "# calculating feature importance\n",
        "\n",
        "for i,j in zip(model_xg_n.feature_importances_,range(len(model_xg_n.feature_importances_))):\n",
        "  print(j,i)"
      ],
      "execution_count": null,
      "outputs": [
        {
          "output_type": "stream",
          "text": [
            "0 0.13686451\n",
            "1 0.056720246\n",
            "2 0.019343492\n",
            "3 0.01056292\n",
            "4 0.0062322696\n",
            "5 0.03922324\n",
            "6 0.005513336\n",
            "7 0.0\n",
            "8 0.04941801\n",
            "9 0.0\n",
            "10 0.022173584\n",
            "11 0.0\n",
            "12 0.013496209\n",
            "13 0.0\n",
            "14 0.017452193\n",
            "15 0.015343522\n",
            "16 0.008028957\n",
            "17 0.0353341\n",
            "18 0.007658815\n",
            "19 0.022729656\n",
            "20 0.020579726\n",
            "21 0.03938291\n",
            "22 0.26374558\n",
            "23 0.21019669\n"
          ],
          "name": "stdout"
        }
      ]
    },
    {
      "cell_type": "code",
      "metadata": {
        "colab": {
          "base_uri": "https://localhost:8080/"
        },
        "id": "8BUnbzMx7Kf4",
        "outputId": "8af13743-e728-4592-a04c-fce953e57656"
      },
      "source": [
        "# KNN model\n",
        "\n",
        "model_knn = KNeighborsClassifier()\n",
        "model_knn.fit(data_train, target_train)\n",
        "prediction_knn = model_knn.predict(data_test)\n",
        "accuracy_knn = accuracy_score(target_test, prediction_knn)\n",
        "accuracy_knn"
      ],
      "execution_count": null,
      "outputs": [
        {
          "output_type": "execute_result",
          "data": {
            "text/plain": [
              "0.9487179487179487"
            ]
          },
          "metadata": {
            "tags": []
          },
          "execution_count": 150
        }
      ]
    },
    {
      "cell_type": "code",
      "metadata": {
        "id": "tzzODn2_9yDU"
      },
      "source": [
        "# MLP model\n",
        "\n",
        "model_mlp = MLPClassifier(random_state=1, max_iter=300)\n",
        "model_mlp.fit(data_train, target_train)\n",
        "prediction_mlp = model_mlp.predict(data_test)\n",
        "accuracy_mlp = accuracy_score(target_test, prediction_mlp)\n",
        "accuracy_mlp"
      ],
      "execution_count": null,
      "outputs": []
    },
    {
      "cell_type": "code",
      "metadata": {
        "colab": {
          "base_uri": "https://localhost:8080/"
        },
        "id": "LILbB2rM4rBo",
        "outputId": "b4f0e517-20a3-44b9-e572-8ef58507c736"
      },
      "source": [
        "# Weighted average ensemble\n",
        "\n",
        "weighted_avg = (0.3*prediction_xg_n+0.3*prediction_knn+0.4*prediction_mlp)\n",
        "accuracy_ensemble = accuracy_score(target_test,np.ndarray.round(weighted_avg))\n",
        "accuracy_ensemble\n"
      ],
      "execution_count": null,
      "outputs": [
        {
          "output_type": "execute_result",
          "data": {
            "text/plain": [
              "0.9487179487179487"
            ]
          },
          "metadata": {
            "tags": []
          },
          "execution_count": 157
        }
      ]
    }
  ]
}